{
 "cells": [
  {
   "cell_type": "markdown",
   "metadata": {},
   "source": [
    "Crée par Sorimoutou Lénaïck (SoriTech)<br>\n",
    "[Lien de la vidéo](http://url)<br>\n",
    "[Lien de la chaine](https://www.youtube.com/channel/UC_J9YztyLFOfD76R1gSCOAw?sub_confirmation=1)"
   ]
  },
  {
   "cell_type": "markdown",
   "metadata": {},
   "source": [
    "# Les bases de Python"
   ]
  },
  {
   "cell_type": "markdown",
   "metadata": {},
   "source": [
    "> ### Sommaire : \n",
    "1. [Les commentaires](#Les-commentaires)<br><br>\n",
    "2. [L'indentation](#L'indentation-en-python) <br><br>\n",
    "3. [Les constantes littérales](#Constante-littérales)"
   ]
  },
  {
   "cell_type": "markdown",
   "metadata": {},
   "source": [
    "## Les commentaires\n",
    "___"
   ]
  },
  {
   "cell_type": "markdown",
   "metadata": {},
   "source": [
    "<font color=green style=\"text-decoration: underline;\">Commentaire</font> : portion de code source ignorées par le compilateur ou interpréteur, car destinée au lecteur du programme. \n",
    "\n",
    "En python, un commentaire est un texte à droite du symbole ``#`` et se termine par un saut de ligne. <br>\n",
    "Tout ce qui se situe entre ce ``#`` et le saut de ligne est ignoré."
   ]
  },
  {
   "cell_type": "code",
   "execution_count": null,
   "metadata": {
    "scrolled": true
   },
   "outputs": [],
   "source": [
    "# Je suis un commentaire\n",
    "print('Hello World') #On affiche Hello World"
   ]
  },
  {
   "cell_type": "markdown",
   "metadata": {},
   "source": [
    "Remarquez bien que les commentaires n'apparaissent pas en sortie !"
   ]
  },
  {
   "cell_type": "markdown",
   "metadata": {},
   "source": [
    "## L'indentation en python"
   ]
  },
  {
   "cell_type": "markdown",
   "metadata": {},
   "source": [
    "<font color=green style=\"text-decoration: underline;\">Indentation</font> : consiste en l'ajout de tabulation ou d'espace dans un fichier pour une meilleur lecture.\n",
    "<br>\n",
    "<br>\n",
    ">*Par exemple*, on a les alinéas pour la mise en page d'un texte. Il n'est pas obligatoire, mais fortement recommandé.\n",
    "\n",
    "<br>\n",
    "Dans la majorité des langages de programmation, l'indentation n'est <strong>pas obligatoire</strong> , c'est le programmeur qui se force à <strong>mettre en forme</strong>  son code pour améliorer sa lisibilité. L'identation est simplement recommandée. \n",
    "<br>\n",
    "<br>\n",
    "Mais pour python c'est différent... Python se base sur des espaces pour délimiter les blocs de code. \n",
    "Dans ce cas de figure, l'identation <strong>est obligatoire</strong> !\n",
    "<br>\n",
    "Sans respect de l'indentation, on peut se trouver à batailler pendant des heures avec l'interpréteur pour trouver son erreur. Alors qu'en réalité, il s'agissait juste d'un problème d'indentation.\n",
    "<br>\n",
    "<br>\n",
    "Le code suivant par exemple renvoie <font color=red>IndentationError</font>. "
   ]
  },
  {
   "cell_type": "code",
   "execution_count": null,
   "metadata": {},
   "outputs": [],
   "source": [
    "entier = 5\n",
    "for i in range(0, entier):\n",
    "print(i)"
   ]
  },
  {
   "cell_type": "markdown",
   "metadata": {},
   "source": [
    "Une petite tabulation et c'est réglé : "
   ]
  },
  {
   "cell_type": "code",
   "execution_count": null,
   "metadata": {},
   "outputs": [],
   "source": [
    "entier = 5\n",
    "for i in range(0, entier):\n",
    "    print(i)"
   ]
  },
  {
   "cell_type": "markdown",
   "metadata": {},
   "source": [
    "## Constante littérales"
   ]
  },
  {
   "cell_type": "markdown",
   "metadata": {},
   "source": [
    "<font color=green style=\"text-decoration: underline;\">Littéral</font> : écriture d'une valeur d'un certain type. <br>\n",
    "Exemple :\n",
    "```python \n",
    "10 #(int litterale)\n",
    "15.2 #(float litterale)\n",
    "\"Hello World\" #(String litterale)\n",
    "1 + 2j #(Complexe litterale)\n",
    "```\n",
    "*10* par exemple est un littéral, car il représentera toujours la valeur 10 **peu importe** les instructions que l'on peut ajouter."
   ]
  },
  {
   "cell_type": "markdown",
   "metadata": {},
   "source": [
    "*Un littéral est toujours lié à un type.*\n"
   ]
  }
 ],
 "metadata": {
  "kernelspec": {
   "display_name": "Python 3",
   "language": "python",
   "name": "python3"
  },
  "language_info": {
   "codemirror_mode": {
    "name": "ipython",
    "version": 3
   },
   "file_extension": ".py",
   "mimetype": "text/x-python",
   "name": "python",
   "nbconvert_exporter": "python",
   "pygments_lexer": "ipython3",
   "version": "3.7.3"
  }
 },
 "nbformat": 4,
 "nbformat_minor": 2
}
