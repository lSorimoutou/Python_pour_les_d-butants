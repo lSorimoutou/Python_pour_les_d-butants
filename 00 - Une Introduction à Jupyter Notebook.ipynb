{
 "cells": [
  {
   "cell_type": "markdown",
   "metadata": {},
   "source": [
    "Crée par Sorimoutou Lénaïck (SoriTech)<br>\n",
    "[Lien de la vidéo](https://youtu.be/RYDPywqi_PE)<br>\n",
    "[Lien de la chaine](https://www.youtube.com/channel/UC_J9YztyLFOfD76R1gSCOAw?view_as=subscriber)"
   ]
  },
  {
   "cell_type": "markdown",
   "metadata": {},
   "source": [
    "# Une Introduction à Jupyter Notebook\n",
    "\n",
    "Jupyter Notebook est une application web **interactive** dans laquelle on peut réaliser des programmes contenant à la fois du **texte formaté** en markdown et **du code**. \n",
    "\n",
    "Ce premier notebook a pour but de vous familiariser avec jupyter notebook et avec les diverses fonctionnalités de l'application. \n",
    "\n",
    "## Un notebook ça ressemble à quoi ?\n",
    "___\n",
    "\n",
    "Un notebook ressemble concrètement à un **tableau à une seule colonne** où on empile des cellules de texte et de code.\n",
    "\n",
    "En haut du notebook, vous avez une barre, contenant le titre du fichier, un menu (File,Edit,...Help), et une barre de boutons qui sont des raccourcis vers certains menus fréquemment utilisés. "
   ]
  },
  {
   "cell_type": "markdown",
   "metadata": {},
   "source": [
    "## Les types de cellule\n",
    "___\n",
    "\n",
    "Il y a 4 types de cellule \n",
    "* Cellule pour le code \n",
    "* Cellule pour le texte (Markdown)\n",
    "* Cellule pour texte brute\n",
    "* Cellule pour les titres \n",
    "\n",
    "Pour pouvoir sélectionner une cellule, il suffit de cliquer dessus.\n"
   ]
  },
  {
   "cell_type": "markdown",
   "metadata": {},
   "source": [
    "### Cellule pour le code"
   ]
  },
  {
   "cell_type": "markdown",
   "metadata": {},
   "source": [
    "Pour exécuter le code, cliqué sur la cellule et utiliser le raccourci ``maj``+``entrée``ou ``shift``+``entrée``.\n",
    "<br>\n",
    "<br>\n",
    "Entrainez-vous avez la cellule de code suivante : "
   ]
  },
  {
   "cell_type": "code",
   "execution_count": null,
   "metadata": {},
   "outputs": [],
   "source": [
    "a = 2 \n",
    "b = 5\n",
    "print(a * b)"
   ]
  },
  {
   "cell_type": "markdown",
   "metadata": {},
   "source": [
    "Lorsque la cellule de code a été évaluée, sous la cellule Entrer [], on peut remarquer l'apparition de la valeur \"10\". "
   ]
  },
  {
   "cell_type": "markdown",
   "metadata": {},
   "source": [
    "### Cellule de texte (Markdown)"
   ]
  },
  {
   "cell_type": "markdown",
   "metadata": {},
   "source": [
    "``maj``+``entrée`` ou ``shift``+``entrée`` avec la cellule sélectionner pour activer le formatage markdown.\n",
    "<br>\n",
    "<br>\n",
    "Entrainez-vous avez la cellule de code suivante : "
   ]
  },
  {
   "cell_type": "markdown",
   "metadata": {},
   "source": [
    "*Cellule* de **texte** formaté en markdown."
   ]
  },
  {
   "cell_type": "markdown",
   "metadata": {},
   "source": [
    "### Cellule pour texte brute"
   ]
  },
  {
   "cell_type": "raw",
   "metadata": {},
   "source": [
    "Texte sans Markdown."
   ]
  },
  {
   "cell_type": "markdown",
   "metadata": {},
   "source": [
    "## Les modes \n",
    "___\n",
    "\n",
    "Vous pouvez interagir avec une cellule sous deux modes différents. On a le \"*mode édition*\" et le \"*mode commande*\".\n",
    "\n",
    "### Mode édition\n",
    "Le mode édition comme son nom l'indique permet d'éditer la cellule (de modifier le code ou le texte).\n",
    "Pour que le notebook évalue le contenu de la cellule, il suffit de cliquer sur Run ou d’utiliser le raccourci ``maj``+``entrée`` ou ``shift``+``entrée``.\n",
    "\n",
    "### Mode commande\n",
    "Le mode commande permet d'utiliser diverses commandes bien pratique sur le notebook.\n",
    "\n",
    "Voici une liste des commandes les plus utiles avec leur raccourcis clavier utilisable pendant le mode commande :\n",
    "Les commandes sont utilisables seulement s'il y a une cellule sélectionner.\n",
    "\n",
    "| Commande    |     raccourcis clavier    | \n",
    "| ------------- |: -------------: |\n",
    "| Convertir en cellule Markdown    |        m       | \n",
    "| Convertir en cellule de code        |        y        |\n",
    "| Convertir en cellule de texte brute     |        r       |\n",
    "| Insérer une cellule avant la cellule sélectionner     |        a       |\n",
    "| Insérer une cellule après la cellule sélectionner     |        b       |\n",
    "| Afficher les raccourcis clavier     |        h       |\n",
    "| Sauvegarder     |        ctrl + s      |\n",
    "| Supprimer les cellules     |        dd     |\n",
    "| Passer une cellue en mode édition     |        double clic gauche ou Entrée   |"
   ]
  },
  {
   "cell_type": "markdown",
   "metadata": {},
   "source": [
    "## Réinitialiser l'interpréteur \n",
    "___\n",
    "\n",
    "Le menu *Kernel -> Restart* vous permet de redémarrer votre interpréteur. "
   ]
  }
 ],
 "metadata": {
  "kernelspec": {
   "display_name": "Python 3",
   "language": "python",
   "name": "python3"
  },
  "language_info": {
   "codemirror_mode": {
    "name": "ipython",
    "version": 3
   },
   "file_extension": ".py",
   "mimetype": "text/x-python",
   "name": "python",
   "nbconvert_exporter": "python",
   "pygments_lexer": "ipython3",
   "version": "3.7.3"
  }
 },
 "nbformat": 4,
 "nbformat_minor": 2
}
